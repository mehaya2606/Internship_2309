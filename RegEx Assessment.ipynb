{
 "cells": [
  {
   "cell_type": "code",
   "execution_count": 2,
   "id": "c4198408",
   "metadata": {},
   "outputs": [],
   "source": [
    "import regex as re"
   ]
  },
  {
   "cell_type": "code",
   "execution_count": 3,
   "id": "c17a00e0",
   "metadata": {},
   "outputs": [],
   "source": [
    "#Question 1- Write a Python program to replace all occurrences of a space, comma, or dot with a colon."
   ]
  },
  {
   "cell_type": "code",
   "execution_count": 20,
   "id": "fd745326",
   "metadata": {},
   "outputs": [
    {
     "name": "stdout",
     "output_type": "stream",
     "text": [
      "Python:Exercises::PHP:exercises:\n"
     ]
    }
   ],
   "source": [
    "SampleText = 'Python Exercises, PHP exercises.'\n",
    "pattern = r\"[\\s,.]\"\n",
    "match = re.sub(pattern, \":\", SampleText)\n",
    "print(match)"
   ]
  },
  {
   "cell_type": "code",
   "execution_count": 23,
   "id": "b58ecd2a",
   "metadata": {},
   "outputs": [],
   "source": [
    "#Question 2- Write a Python program to find all words starting with 'a' or 'e' in a given string."
   ]
  },
  {
   "cell_type": "code",
   "execution_count": 24,
   "id": "13dabf2a",
   "metadata": {},
   "outputs": [
    {
     "name": "stdout",
     "output_type": "stream",
     "text": [
      "['abdul', 'an', 'aerospace', 'also', 'as', 'extract']\n"
     ]
    }
   ],
   "source": [
    "SampleText = \"abdul Kalam was an Indian aerospace scientist also known as Missile Man of India. Data Science is the study of data to extract meaningful insights for business.\"\n",
    "pattern = r\"\\b[ae]\\w+\"\n",
    "match = re.findall(pattern, SampleText) \n",
    "print(match)"
   ]
  },
  {
   "cell_type": "code",
   "execution_count": 25,
   "id": "36be338a",
   "metadata": {},
   "outputs": [],
   "source": [
    "#Question 3- Create a function in python to find all words that are at least 4 characters long in a string. The use of the re.compile() method is mandatory."
   ]
  },
  {
   "cell_type": "code",
   "execution_count": 27,
   "id": "064fb5ed",
   "metadata": {},
   "outputs": [
    {
     "name": "stdout",
     "output_type": "stream",
     "text": [
      "['Abdul', 'Kalam', 'Indian', 'aerospace', 'scientist', 'also', 'known', 'Missile', 'India', 'Data', 'Science', 'study', 'data', 'extract', 'meaningful', 'insights', 'business']\n"
     ]
    }
   ],
   "source": [
    "SampleText = \"Abdul Kalam was an Indian aerospace scientist also known as Missile Man of India. Data Science is the study of data to extract meaningful insights for business.\"\n",
    "pattern = re.compile(r'\\b\\w{4,}\\b')\n",
    "match = re.findall(pattern, SampleText) \n",
    "print(match)"
   ]
  },
  {
   "cell_type": "code",
   "execution_count": 28,
   "id": "638b1991",
   "metadata": {},
   "outputs": [],
   "source": [
    "#Question 4- Create a function in python to find all three, four, and five character words in a string. The use of the re.compile() method is mandatory."
   ]
  },
  {
   "cell_type": "code",
   "execution_count": 29,
   "id": "94d54207",
   "metadata": {},
   "outputs": [
    {
     "name": "stdout",
     "output_type": "stream",
     "text": [
      "['Abdul', 'Kalam', 'was', 'also', 'known', 'Man', 'India', 'Data', 'the', 'study', 'data', 'for']\n"
     ]
    }
   ],
   "source": [
    "SampleText = \"Abdul Kalam was an Indian aerospace scientist also known as Missile Man of India. Data Science is the study of data to extract meaningful insights for business.\"\n",
    "pattern = re.compile(r'\\b\\w{3,5}\\b')\n",
    "match = re.findall(pattern, SampleText) \n",
    "print(match)"
   ]
  },
  {
   "cell_type": "code",
   "execution_count": 62,
   "id": "29dee2c9",
   "metadata": {},
   "outputs": [],
   "source": [
    "#Question 5- Create a function in Python to remove the parenthesis in a list of strings. The use of the re.compile() method is mandatory."
   ]
  },
  {
   "cell_type": "code",
   "execution_count": 63,
   "id": "c8ffb6b4",
   "metadata": {},
   "outputs": [
    {
     "name": "stdout",
     "output_type": "stream",
     "text": [
      "['example.com', 'hr@fliprobo.com', 'github.com', 'Hello Data Science World', 'Data Scientist']\n"
     ]
    }
   ],
   "source": [
    "def parenthesis_removal(SampleText):\n",
    "    pattern = re.compile(r'[()]')\n",
    "    return [pattern.sub('', text) for text in SampleText]\n",
    "\n",
    "SampleText = [\"example(.com)\", \"hr@fliprobo(.com)\", \"github(.com)\", \"Hello (Data Science World)\", \"Data (Scientist)\"]\n",
    "Match = remove_parentheses(SampleText)\n",
    "print(Match)"
   ]
  },
  {
   "cell_type": "code",
   "execution_count": 64,
   "id": "0458b17d",
   "metadata": {},
   "outputs": [],
   "source": [
    "#Question 6- Write a python program to remove the parenthesis area from the text stored in the text file using Regular Expression."
   ]
  },
  {
   "cell_type": "code",
   "execution_count": 76,
   "id": "7571ce1f",
   "metadata": {},
   "outputs": [
    {
     "name": "stdout",
     "output_type": "stream",
     "text": [
      "example \n",
      "hr@fliprobo \n",
      "github \n",
      "Hello \n",
      "Data \n"
     ]
    }
   ],
   "source": [
    "SampleText = [\"example (.com)\", \"hr@fliprobo (.com)\", \"github (.com)\", \"Hello (Data Science World)\", \"Data (Scientist)\"]\n",
    "for text in SampleText:\n",
    "    print(re.sub(r'\\([^)]*\\)', \"\", text))"
   ]
  },
  {
   "cell_type": "code",
   "execution_count": 77,
   "id": "b3a9a856",
   "metadata": {},
   "outputs": [],
   "source": [
    "#Question 7- Write a regular expression in Python to split a string into uppercase letters."
   ]
  },
  {
   "cell_type": "code",
   "execution_count": 80,
   "id": "a1eea61a",
   "metadata": {},
   "outputs": [
    {
     "name": "stdout",
     "output_type": "stream",
     "text": [
      "['Importance', 'Of', 'Regular', 'Expressions', 'In', 'Python']\n"
     ]
    }
   ],
   "source": [
    "Sampletext = \"ImportanceOfRegularExpressionsInPython\"\n",
    "pattern = r\"[A-Z][^A-Z]*\"\n",
    "Match = re.findall(pattern, Sampletext)\n",
    "print(Match)"
   ]
  },
  {
   "cell_type": "code",
   "execution_count": 81,
   "id": "07f31a94",
   "metadata": {},
   "outputs": [],
   "source": [
    "#Question 8- Create a function in python to insert spaces between words starting with numbers."
   ]
  },
  {
   "cell_type": "code",
   "execution_count": 100,
   "id": "18dd1e28",
   "metadata": {},
   "outputs": [],
   "source": [
    "def insert_spaces(SampleText):\n",
    "    pattern = r'([A-Za-z]+)(\\d+)'\n",
    "    match = re.sub(pattern, r'\\1 \\2', SampleText)\n",
    "    return match"
   ]
  },
  {
   "cell_type": "code",
   "execution_count": 103,
   "id": "6c5f1598",
   "metadata": {},
   "outputs": [
    {
     "name": "stdout",
     "output_type": "stream",
     "text": [
      "RegularExpression 1IsAn 2ImportantTopic 3InPython\n"
     ]
    }
   ],
   "source": [
    "SampleText = \"RegularExpression1IsAn2ImportantTopic3InPython\"\n",
    "result = insert_spaces(SampleText)\n",
    "print(result)"
   ]
  },
  {
   "cell_type": "code",
   "execution_count": 104,
   "id": "c1d41042",
   "metadata": {},
   "outputs": [],
   "source": [
    "#Question 9- Create a function in python to insert spaces between words starting with capital letters or with numbers."
   ]
  },
  {
   "cell_type": "code",
   "execution_count": 124,
   "id": "c6838c6c",
   "metadata": {},
   "outputs": [
    {
     "name": "stdout",
     "output_type": "stream",
     "text": [
      "Regular Expression 1Is An 2Important Topic 3In Python \n"
     ]
    }
   ],
   "source": [
    "def insert_spaces(SampleText):\n",
    "    pattern = r'([A-Z][a-z]+|d+)'\n",
    "    match = re.sub(pattern, r'\\1 ', SampleText)\n",
    "    return match\n",
    "\n",
    "SampleText = \"RegularExpression1IsAn2ImportantTopic3InPython\"\n",
    "result = insert_spaces(SampleText)\n",
    "print(result)"
   ]
  },
  {
   "cell_type": "code",
   "execution_count": 122,
   "id": "6ba6168a",
   "metadata": {},
   "outputs": [],
   "source": [
    "#Question 10- Write a python program to extract email address from the text stored in the text file using Regular Expression."
   ]
  },
  {
   "cell_type": "code",
   "execution_count": 128,
   "id": "065765d9",
   "metadata": {},
   "outputs": [
    {
     "name": "stdout",
     "output_type": "stream",
     "text": [
      "['xyz@domain.com', 'xyz.abc@sdomain.domain.com', 'hr@fliprobo.com']\n"
     ]
    }
   ],
   "source": [
    "SampleText = \"Hello my name is Data Science and my email address is xyz@domain.com and alternate email address is xyz.abc@sdomain.domain.com. Please contact us at hr@fliprobo.com for further information.\"\n",
    "\n",
    "pattern = r'\\b[A-Za-z0-9.]+@[A-Za-z.]+\\.[A-Z|a-z]{2,}\\b'\n",
    "match = re.findall(pattern, SampleText)\n",
    "print(match)"
   ]
  },
  {
   "cell_type": "code",
   "execution_count": 129,
   "id": "8bb317bb",
   "metadata": {},
   "outputs": [],
   "source": [
    "#Question 11- Write a Python program to match a string that contains only upper and lowercase letters, numbers, and underscores."
   ]
  },
  {
   "cell_type": "code",
   "execution_count": 134,
   "id": "52dadf05",
   "metadata": {},
   "outputs": [
    {
     "name": "stdout",
     "output_type": "stream",
     "text": [
      "Match found!\n",
      "No match found!\n"
     ]
    }
   ],
   "source": [
    "def match_string(string):\n",
    "    pattern = r'^[a-zA-Z0-9_]*$'\n",
    "    if re.search(pattern, string):\n",
    "        return 'Match found!'\n",
    "    else:\n",
    "        return 'No match found!'\n",
    "\n",
    "print(match_string('Data_Science_0923'))\n",
    "print(match_string('Data Science 0923'))"
   ]
  },
  {
   "cell_type": "code",
   "execution_count": 133,
   "id": "3c4764df",
   "metadata": {},
   "outputs": [],
   "source": [
    "#Question 12- Write a Python program where a string will start with a specific number."
   ]
  },
  {
   "cell_type": "code",
   "execution_count": 144,
   "id": "5d3f4327",
   "metadata": {},
   "outputs": [
    {
     "name": "stdout",
     "output_type": "stream",
     "text": [
      "No match found!\n",
      "Match found!\n"
     ]
    }
   ],
   "source": [
    "def match_number(string):\n",
    "    text = re.compile(r\"^6\")\n",
    "    if text.match(string):\n",
    "        return 'Match found!'\n",
    "    else:\n",
    "        return 'No match found!'\n",
    "print(match_number('5-6546854563'))\n",
    "print(match_number('6-6546565163'))"
   ]
  },
  {
   "cell_type": "code",
   "execution_count": 145,
   "id": "5e3458eb",
   "metadata": {},
   "outputs": [],
   "source": [
    "#Question 13- Write a Python program to remove leading zeros from an IP address"
   ]
  },
  {
   "cell_type": "code",
   "execution_count": 147,
   "id": "aaa75382",
   "metadata": {},
   "outputs": [
    {
     "name": "stdout",
     "output_type": "stream",
     "text": [
      "103.8.22.59\n"
     ]
    }
   ],
   "source": [
    "My_IP = \"103.08.022.0059\"\n",
    "string = re.sub('\\.[0]*', '.', My_IP)\n",
    "print(string)"
   ]
  },
  {
   "cell_type": "code",
   "execution_count": 148,
   "id": "47375765",
   "metadata": {},
   "outputs": [],
   "source": [
    "#Question 14- Write a regular expression in python to match a date string in the form of Month name followed by day number and year stored in a text file."
   ]
  },
  {
   "cell_type": "code",
   "execution_count": 179,
   "id": "ac1e5a11",
   "metadata": {},
   "outputs": [
    {
     "name": "stdout",
     "output_type": "stream",
     "text": [
      "['August 15th 1947']\n"
     ]
    }
   ],
   "source": [
    "Sampletext =  'On August 15th 1947 that India was declared independent from British colonialism, and the reins of control were handed over to the leaders of the Country'\n",
    "pattern = r\"\\b([A-Z][a-z]+\\s\\d{1,2}(?:st|nd|rd|th)\\s\\d{4})\\b\"\n",
    "match = re.findall(pattern, Sampletext)\n",
    "print(match)"
   ]
  },
  {
   "cell_type": "code",
   "execution_count": 180,
   "id": "bf79c0a7",
   "metadata": {},
   "outputs": [],
   "source": [
    "#Question 15- Write a Python program to search some literals strings in a string. "
   ]
  },
  {
   "cell_type": "code",
   "execution_count": 188,
   "id": "c9b59155",
   "metadata": {},
   "outputs": [
    {
     "name": "stdout",
     "output_type": "stream",
     "text": [
      "Searching for \"fox\" in \"The quick brown fox jumps over the lazy dog.\" ->\n",
      "Match found!\n",
      "Searching for \"dog\" in \"The quick brown fox jumps over the lazy dog.\" ->\n",
      "Match found!\n",
      "Searching for \"horse\" in \"The quick brown fox jumps over the lazy dog.\" ->\n",
      "No Match found!\n"
     ]
    }
   ],
   "source": [
    "Sampletext = 'The quick brown fox jumps over the lazy dog.'\n",
    "Searchedwords = ['fox', 'dog', 'horse']\n",
    "\n",
    "for words in Searchedwords:\n",
    "    print('Searching for \"%s\" in \"%s\" ->' % (words, Sampletext),)\n",
    "    if re.search(words, Sampletext):\n",
    "        print('Match found!')\n",
    "    else:\n",
    "        print('No Match found!')"
   ]
  },
  {
   "cell_type": "code",
   "execution_count": 189,
   "id": "fe1d94bc",
   "metadata": {},
   "outputs": [],
   "source": [
    "#Question 16- Write a Python program to search a literals string in a string and also find the location within the original string where the pattern occurs"
   ]
  },
  {
   "cell_type": "code",
   "execution_count": 200,
   "id": "1312c87d",
   "metadata": {},
   "outputs": [
    {
     "name": "stdout",
     "output_type": "stream",
     "text": [
      "Found \"fox\" in \"The quick brown fox jumps over the lazy dog.\" from 16 to 19.\n"
     ]
    }
   ],
   "source": [
    "string = 'The quick brown fox jumps over the lazy dog.'\n",
    "pattern = 'fox'\n",
    "match = re.search(pattern, string)\n",
    "if match:\n",
    "    start = match.start()\n",
    "    end = match.end()\n",
    "    print(f'Found \"{match.re.pattern}\" in \"{match.string}\" from {start} to {end}.')"
   ]
  },
  {
   "cell_type": "code",
   "execution_count": 201,
   "id": "e08ab377",
   "metadata": {},
   "outputs": [],
   "source": [
    "#Question 17- Write a Python program to find the substrings within a string."
   ]
  },
  {
   "cell_type": "code",
   "execution_count": 208,
   "id": "4dbeb6ed",
   "metadata": {},
   "outputs": [
    {
     "name": "stdout",
     "output_type": "stream",
     "text": [
      "Found \"exercises\"\n",
      "Found \"exercises\"\n",
      "Found \"exercises\"\n"
     ]
    }
   ],
   "source": [
    "text = 'Python exercises, PHP exercises, C# exercises'\n",
    "pattern = 'exercises'\n",
    "\n",
    "for match in re.findall(pattern, text):\n",
    "    print('Found \"%s\"' % match)"
   ]
  },
  {
   "cell_type": "code",
   "execution_count": 209,
   "id": "03a4a334",
   "metadata": {},
   "outputs": [],
   "source": [
    "#Question 18- Write a Python program to find the occurrence and position of the substrings within a string."
   ]
  },
  {
   "cell_type": "code",
   "execution_count": 213,
   "id": "d2aa0ae2",
   "metadata": {},
   "outputs": [
    {
     "name": "stdout",
     "output_type": "stream",
     "text": [
      "Found \"exercises\" at 7:16\n",
      "Found \"exercises\" at 22:31\n",
      "Found \"exercises\" at 36:45\n"
     ]
    }
   ],
   "source": [
    "text = 'Python exercises, PHP exercises, C# exercises'\n",
    "pattern = 'exercises'\n",
    "for match in re.finditer(pattern, text):\n",
    "    s = match.start()\n",
    "    e = match.end()\n",
    "    print(f'Found \"%s\" at %d:%d' % (text[s:e], s, e))"
   ]
  },
  {
   "cell_type": "code",
   "execution_count": 214,
   "id": "0f2e79cd",
   "metadata": {},
   "outputs": [],
   "source": [
    "#Question 19- Write a Python program to convert a date of yyyy-mm-dd format to dd-mm-yyyy format."
   ]
  },
  {
   "cell_type": "code",
   "execution_count": 219,
   "id": "e92e02c9",
   "metadata": {},
   "outputs": [
    {
     "name": "stdout",
     "output_type": "stream",
     "text": [
      "Original date in YYY-MM-DD Format:  2023-10-07\n",
      "New date in DD-MM-YYYY Format:  07-10-2023\n"
     ]
    }
   ],
   "source": [
    "def convert_date_format(date):\n",
    "    return re.sub(r'(\\d{4})-(\\d{1,2})-(\\d{1,2})', '\\\\3-\\\\2-\\\\1', date)\n",
    "date_current = \"2023-10-07\"\n",
    "print(\"Original date in YYY-MM-DD Format: \",date_current)\n",
    "print(\"New date in DD-MM-YYYY Format: \",convert_date_format(date_current))"
   ]
  },
  {
   "cell_type": "code",
   "execution_count": 220,
   "id": "67e1e879",
   "metadata": {},
   "outputs": [],
   "source": [
    "#Question 20- Create a function in python to find all decimal numbers with a precision of 1 or 2 in a string. The use of the re.compile() method is mandatory."
   ]
  },
  {
   "cell_type": "code",
   "execution_count": 227,
   "id": "567a62dd",
   "metadata": {},
   "outputs": [
    {
     "name": "stdout",
     "output_type": "stream",
     "text": [
      "['01.12', '145.8', '3.01', '27.25', '0.25']\n"
     ]
    }
   ],
   "source": [
    "def find_decimal_numbers(SampleText):\n",
    "    pattern = re.compile(r'\\b\\d{1,4}\\.\\d{1,2}\\b')\n",
    "    return re.findall(pattern, SampleText)\n",
    "\n",
    "SampleText = \"01.12, 0132.123, 2.31875, 145.8, 3.01, 27.25 0.25\"\n",
    "Match = find_decimal_numbers(SampleText)\n",
    "print(Match)"
   ]
  },
  {
   "cell_type": "code",
   "execution_count": 228,
   "id": "a23062fe",
   "metadata": {},
   "outputs": [],
   "source": [
    "#Question 21- Write a Python program to separate and print the numbers and their position of a given string."
   ]
  },
  {
   "cell_type": "code",
   "execution_count": 234,
   "id": "b2bec993",
   "metadata": {},
   "outputs": [
    {
     "name": "stdout",
     "output_type": "stream",
     "text": [
      "Number: 23, Position: 26\n",
      "None\n"
     ]
    }
   ],
   "source": [
    "def separate_numbers(Sampletext):\n",
    "    pattern = r'\\d+'\n",
    "    for match in re.finditer(pattern, Sampletext):\n",
    "        print(f\"Number: {match.group(0)}, Position: {match.start()}\")\n",
    "        \n",
    "Sampletext = \"My Name is Mehtab and I'm 23\"\n",
    "match = separate_numbers(Sampletext)\n",
    "print(match)"
   ]
  },
  {
   "cell_type": "code",
   "execution_count": null,
   "id": "4563fa7a",
   "metadata": {},
   "outputs": [],
   "source": [
    "#Question 22- Write a regular expression in python program to extract maximum/largest numeric value from a string."
   ]
  },
  {
   "cell_type": "code",
   "execution_count": 243,
   "id": "d0764ca0",
   "metadata": {},
   "outputs": [
    {
     "name": "stdout",
     "output_type": "stream",
     "text": [
      "950\n",
      "None\n"
     ]
    }
   ],
   "source": [
    "def extract_max(SampleText):\n",
    "    numbers = re.findall(r'\\d+', SampleText)\n",
    "    numbers = map(int, numbers)\n",
    "    print(max(numbers))\n",
    "    \n",
    "SampleText =  'My marks in each semester are: 947, 896, 926, 524, 734, 950, 642'\n",
    "result = extract_max(SampleText)\n",
    "print(result)"
   ]
  },
  {
   "cell_type": "code",
   "execution_count": 244,
   "id": "40fd8ee3",
   "metadata": {},
   "outputs": [],
   "source": [
    "#Question 23- Create a function in python to insert spaces between words starting with capital letters."
   ]
  },
  {
   "cell_type": "code",
   "execution_count": 246,
   "id": "51365468",
   "metadata": {},
   "outputs": [
    {
     "name": "stdout",
     "output_type": "stream",
     "text": [
      "Regular Expression Is An Important Topic In Python\n"
     ]
    }
   ],
   "source": [
    "def capital_letters_spaces(SampleText):\n",
    "    return re.sub(r\"(\\w)([A-Z])\", r\"\\1 \\2\", SampleText)\n",
    "\n",
    "SampleText = \"RegularExpressionIsAnImportantTopicInPython\"\n",
    "match = capital_letters_spaces(SampleText)\n",
    "print(match)"
   ]
  },
  {
   "cell_type": "code",
   "execution_count": 247,
   "id": "ed32e43e",
   "metadata": {},
   "outputs": [],
   "source": [
    "#Question 24- Python regex to find sequences of one upper case letter followed by lower case letters"
   ]
  },
  {
   "cell_type": "code",
   "execution_count": 259,
   "id": "1b04ee5c",
   "metadata": {},
   "outputs": [
    {
     "name": "stdout",
     "output_type": "stream",
     "text": [
      "Found a Match!\n",
      "None\n"
     ]
    }
   ],
   "source": [
    "def find(string):\n",
    "    pattern = r'[A-Z]+[a-z]+$'\n",
    "    if (re.search(pattern, string)): \n",
    "        print(\"Found a Match!\") \n",
    "    else: \n",
    "        print(\"Match Not Found!\")\n",
    "        \n",
    "string = \"Mehtabdatascience\"\n",
    "output = find(string)\n",
    "print(output) "
   ]
  },
  {
   "cell_type": "code",
   "execution_count": 260,
   "id": "b4861fdb",
   "metadata": {},
   "outputs": [],
   "source": [
    "#Question 25- Write a Python program to remove continuous duplicate words from Sentence using Regular Expression."
   ]
  },
  {
   "cell_type": "code",
   "execution_count": 261,
   "id": "1c73ce45",
   "metadata": {},
   "outputs": [
    {
     "name": "stdout",
     "output_type": "stream",
     "text": [
      "Hello hello world\n"
     ]
    }
   ],
   "source": [
    "def remove_duplicates(SampleText):\n",
    "    pattern = r'\\b(\\w+)(\\s+\\1\\b)+'\n",
    "    result = re.sub(pattern, r'\\1', SampleText)\n",
    "    return result\n",
    "\n",
    "SampleText = \"Hello hello world world\"\n",
    "match = remove_duplicates(SampleText)\n",
    "print(match)"
   ]
  },
  {
   "cell_type": "code",
   "execution_count": 262,
   "id": "4bcdf141",
   "metadata": {},
   "outputs": [],
   "source": [
    "#Question 26-  Write a python program using RegEx to accept string ending with alphanumeric character."
   ]
  },
  {
   "cell_type": "code",
   "execution_count": 263,
   "id": "0a1b36ec",
   "metadata": {},
   "outputs": [
    {
     "name": "stdout",
     "output_type": "stream",
     "text": [
      "Found a Match!\n",
      "None\n"
     ]
    }
   ],
   "source": [
    "def check(string):\n",
    "    pattern = r'[a-zA-Z0-9]$'\n",
    "    if (re.search(pattern, string)): \n",
    "        print(\"Found a Match!\") \n",
    "    else: \n",
    "        print(\"Match Not Found!\")\n",
    "        \n",
    "string = \"mehtab0925\"\n",
    "output = check(string)\n",
    "print(output)"
   ]
  },
  {
   "cell_type": "code",
   "execution_count": 264,
   "id": "15bfbd87",
   "metadata": {},
   "outputs": [],
   "source": [
    "#Question 27-Write a python program using RegEx to extract the hashtags."
   ]
  },
  {
   "cell_type": "code",
   "execution_count": 268,
   "id": "cc85fdce",
   "metadata": {},
   "outputs": [
    {
     "name": "stdout",
     "output_type": "stream",
     "text": [
      "['#Doltiwal', '#xyzabc', '#Demonetization']\n"
     ]
    }
   ],
   "source": [
    "def extract_hashtags(Sampletext):\n",
    "    match = re.findall(r'#\\w+', Sampletext)\n",
    "    return match\n",
    "\n",
    "Sampletext = \"\"\"RT @kapil_kausik: #Doltiwal I mean #xyzabc is \"hurt\" by #Demonetization as the same has rendered USELESS <ed><U+00A0><U+00BD><ed><U+00B1><U+0089> \"acquired funds\" No wo\"\"\"\n",
    "match = extract_hashtags(Sampletext)\n",
    "print(match)"
   ]
  },
  {
   "cell_type": "code",
   "execution_count": 269,
   "id": "4ca0dd46",
   "metadata": {},
   "outputs": [],
   "source": [
    "#Question 28- Write a python program using RegEx to remove <U+..> like symbols"
   ]
  },
  {
   "cell_type": "code",
   "execution_count": 270,
   "id": "b1f202d8",
   "metadata": {},
   "outputs": [
    {
     "name": "stdout",
     "output_type": "stream",
     "text": [
      "@Jags123456 Bharat band on 28??<ed><ed>Those who  are protesting #demonetization  are all different party leaders\n"
     ]
    }
   ],
   "source": [
    "Sampletext = \"@Jags123456 Bharat band on 28??<ed><U+00A0><U+00BD><ed><U+00B8><U+0082>Those who  are protesting #demonetization  are all different party leaders\"\n",
    "pattern = r\"<U\\+\\w{4}>\"\n",
    "match = re.sub(pattern, \"\", Sampletext)\n",
    "print(match)"
   ]
  },
  {
   "cell_type": "code",
   "execution_count": 271,
   "id": "32420433",
   "metadata": {},
   "outputs": [],
   "source": [
    "#Question 29- Write a python program to extract dates from the text stored in the text file"
   ]
  },
  {
   "cell_type": "code",
   "execution_count": 274,
   "id": "5f7d57ca",
   "metadata": {},
   "outputs": [
    {
     "name": "stdout",
     "output_type": "stream",
     "text": [
      "['12-09-1992', '15-12-1999']\n"
     ]
    }
   ],
   "source": [
    "Sampletext = \"Ron was born on 12-09-1992 and he was admitted to school 15-12-1999.\"\n",
    "matches = re.findall(r'(\\d{2}-\\d{2}-\\d{4})',Sampletext)\n",
    "print(matches)"
   ]
  },
  {
   "cell_type": "code",
   "execution_count": 275,
   "id": "d3ab33ce",
   "metadata": {},
   "outputs": [],
   "source": [
    "#Question 30- Create a function in python to remove all words from a string of length between 2 and 4."
   ]
  },
  {
   "cell_type": "code",
   "execution_count": 281,
   "id": "9bee3348",
   "metadata": {},
   "outputs": [
    {
     "name": "stdout",
     "output_type": "stream",
     "text": [
      " following example creates ArrayList a capacity elements. 4 elements added ArrayList ArrayList trimmed accordingly.\n"
     ]
    }
   ],
   "source": [
    "SampleText = \"The following example creates an ArrayList with a capacity of 50 elements. 4 elements are then added to the ArrayList and the ArrayList is trimmed accordingly.\"\n",
    "pattern = re.compile(r'\\W*\\b\\w{2,4}\\b')\n",
    "print(pattern.sub('', SampleText))"
   ]
  }
 ],
 "metadata": {
  "kernelspec": {
   "display_name": "Python 3 (ipykernel)",
   "language": "python",
   "name": "python3"
  },
  "language_info": {
   "codemirror_mode": {
    "name": "ipython",
    "version": 3
   },
   "file_extension": ".py",
   "mimetype": "text/x-python",
   "name": "python",
   "nbconvert_exporter": "python",
   "pygments_lexer": "ipython3",
   "version": "3.10.9"
  }
 },
 "nbformat": 4,
 "nbformat_minor": 5
}
